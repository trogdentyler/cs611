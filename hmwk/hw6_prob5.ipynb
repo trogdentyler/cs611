{
 "cells": [
  {
   "cell_type": "markdown",
   "metadata": {},
   "source": [
    "A plate appearance in baseball can pass through 19 different states. There is one state for each ball and strike count (0-0, 1-0, 2-0, 3-0, 0-1, 1-1, 2-1, 3-1, 0-2, 1-2, 2-2, 3-2), which makes for a total of 12 states, and there is one state for each of the plate appearance ending outcomes: a walk, a strikeout, a ball in play out, a single, a double, a triple, and a home run (note we are ignoring the hit by pitch outcome for this problem). We can thus build a 19 X 19 transition matrix to represent the transitions between these states. The code below defines a dictionary between state and state index/state number. Use it as a reference if needed."
   ]
  },
  {
   "cell_type": "code",
   "execution_count": 1,
   "metadata": {},
   "outputs": [
    {
     "data": {
      "text/plain": [
       "{1: '0-0',\n",
       " 2: '1-0',\n",
       " 3: '2-0',\n",
       " 4: '3-0',\n",
       " 5: '0-1',\n",
       " 6: '1-1',\n",
       " 7: '2-1',\n",
       " 8: '3-1',\n",
       " 9: '0-2',\n",
       " 10: '1-2',\n",
       " 11: '2-2',\n",
       " 12: '3-2',\n",
       " 13: 'walk',\n",
       " 14: 'strikeout',\n",
       " 15: 'in play out',\n",
       " 16: 'single',\n",
       " 17: 'double',\n",
       " 18: 'triple',\n",
       " 19: 'home run'}"
      ]
     },
     "execution_count": 1,
     "metadata": {},
     "output_type": "execute_result"
    }
   ],
   "source": [
    "state_dict = {1: '0-0', 2: '1-0', 3: '2-0', 4: '3-0', 5: '0-1', 6: '1-1', 7: '2-1', 8: '3-1',\n",
    "          9: '0-2', 10: '1-2', 11: '2-2', 12: '3-2', 13: 'walk', 14: 'strikeout', 15: 'in play out',\n",
    "          16: 'single', 17: 'double', 18: 'triple', 19: 'home run'}\n",
    "state_dict"
   ]
  },
  {
   "cell_type": "markdown",
   "metadata": {},
   "source": [
    "The \"experts\" in the Texas Rangers R&D department have estimated the transition probabilities for their first baseman Nathaniel Lowe and their outfielder Adolis Garcia in a hypothetical at bat against Astros pitcher Justin Verlander. Use the code below to define those transition matrices."
   ]
  },
  {
   "cell_type": "code",
   "execution_count": 2,
   "metadata": {},
   "outputs": [],
   "source": [
    "import numpy as np \n",
    "\n",
    "T_lowe = np.array([[0., 0., 0., 0., 0., 0., 0., 0., 0., 0., 0., 0., 0., 0., 0., 0., 0.,0., 0.], \n",
    "                  [0.41467405, 0., 0., 0., 0.,0., 0., 0., 0., 0., 0., 0., 0., 0., 0.,0., 0., 0., 0.],\n",
    "                  [0., 0.35756427, 0., 0., 0.,0., 0., 0., 0., 0.,0., 0., 0., 0., 0.,0., 0., 0., 0.],\n",
    "                  [0.0,0.0,0.33761110063144284,0.0,0.0,0.0,0.0,0.0,0.0,0.0,0.0,0.0,0.0,0.0,0.0,0.0,0.0,0.0,0.0],\n",
    "                  [0.5089788929409078,0.0,0.0,0.0,0.0,0.0, 0.0, 0.0, 0.0, 0.0, 0.0, 0.0, 0.0, 0.0, 0.0, 0.0, 0.0, 0.0, 0.0],\n",
    "                  [0.0, 0.5296914658624426, 0.0, 0.0, 0.4049472943690645, 0.0, 0.0, 0.0, 0.0, 0.0, 0.0, 0.0, 0.0, 0.0, 0.0, 0.0, 0.0, 0.0, 0.0],\n",
    "                  [0.0, 0.0, 0.5566948899487275, 0.0, 0.0, 0.3619727633756894, 0.0,0.0, 0.0, 0.0, 0.0, 0.0, 0.0, 0.0, 0.0, 0.0, 0.0, 0.0, 0.0],\n",
    "                  [0.0, 0.0, 0.0, 0.5766944662048635, 0.0, 0.0, 0.27666777041011775, 0.0, 0.0, 0.0, 0.0, 0.0, 0.0, 0.0, 0.0, 0.0, 0.0, 0.0, 0.0],\n",
    "                  [0.0, 0.0, 0.0, 0.0, 0.46950536659516123, 0.0, 0.0, 0.0, 0.23758186315820962, 0.0, 0.0, 0.0, 0.0, 0.0,0.0,0.0, 0.0, 0.0, 0.0],\n",
    "                  [0.0, 0.0, 0.0, 0.0, 0.0, 0.4878604724006126, 0.0, 0.0, 0.40368122127838607, 0.2560095556480009, 0.0, 0.0, 0.0, 0.0, 0.0, 0.0, 0.0, 0.0, 0.0],\n",
    "                  [0.0, 0.0, 0.0, 0.0, 0.0, 0.0, 0.5517191162648163, 0.0, 0.0, 0.36954587341709344, 0.2978015401889929, 0.0, 0.0, 0.0, 0.0, 0.0, 0.0, 0.0, 0.0],\n",
    "                  [0.0, 0.0, 0.0, 0.0, 0.0, 0.0, 0.0, 0.6007818952997468, 0.0, 0.0, 0.29066448479889306, 0.345595786864913, 0.0, 0.0, 0.0, 0.0, 0.0, 0.0, 0.0],\n",
    "                  [0.0, 0.0, 0.0, 0.35360673904225226, 0.0, 0.0, 0.0, 0.2371786683468359, 0.0, 0.0, 0.0, 0.2095972705045434, 1.0, 0.0, 0.0, 0.0, 0.0, 0.0, 0.0],\n",
    "                  [0.0, 0.0, 0.0, 0.0, 0.0, 0.0, 0.0, 0.0, 0.21659025052648884, 0.21085787623527474, 0.2343241141504421, 0.2524632910775439, 0.0, 1.0, 0.0, 0.0, 0.0, 0.0, 0.0],\n",
    "                  [0.0512001019711439, 0.07561992017917941, 0.07055867288584673, 0.04586797543059045, 0.08414643287291151, 0.10063075666987079, 0.11457594134789295, 0.10821530725255282,0.09604011086327822, 0.1103755856792915,0.11998299473096873, 0.1288151499660576, 0.0, 0.0, 1.0, 0.0, 0.0, 0.0, 0.0],\n",
    "                  [0.01417478550798748, 0.021310900398308866, 0.020042057395587058, 0.01306958079107486, 0.02431718076751581, 0.029164644603502952, 0.03353506846710541, 0.031659099885771334, 0.028179391778432886, 0.03208578798921082, 0.03473155851490887, 0.038528257263478284, 0.0, 0.0, 0.0, 1.0, 0.0, 0.0, 0.0],\n",
    "                  [0.0055237297483335295, 0.008198437057234477,0.007709305423905383, 0.005199350307539867, 0.009169989215006447, 0.011230485580027223, 0.012540361284010485, 0.011512244253602305, 0.010272532022629796, 0.011887814807582445, 0.01246360607549679, 0.013752569870120383, 0.0, 0.0, 0.0, 0.0, 1.0, 0.0, 0.0],\n",
    "                  [5.716779535952702e-05, 0.00011540640071927997, 5.110933714627145e-05, 2.6219156141567443e-05, 7.12598779301147e-05, 0.00011812893794202744, 0.0001674703895845609, 0.00014382934987442606, 8.146207718387717e-05, 0.00012133694616219539, 0.00011708309576237653, 0.00013335989030552884, 0.0, 0.0, 0.0, 0.0, 0.0, 1.0, 0.0],\n",
    "                  [0.005391274623288295, 0.007499603027439773, 0.007332864377344159, 0.005535669067537408, 0.007842476302410428, 0.009022748432355017, 0.010794271836472457, 0.010508955611616386, 0.007573168295390601, 0.009116169277384067, 0.009914618444535159, 0.011114314563037872, 0.0, 0.0, 0.0, 0.0, 0.0, 0.0, 1.0]])\n",
    "\n",
    "T_garcia = np.array([[0.0, 0.0,  0.0,  0.0,  0.0,  0.0,  0.0,  0.0,  0.0,  0.0,  0.0,  0.0,  0.0,  0.0,  0.0,  0.0,  0.0,  0.0,  0.0],\n",
    " [0.329028255547876,  0.0,  0.0,  0.0,  0.0,  0.0,  0.0,  0.0,  0.0,  0.0,  0.0,  0.0,  0.0,  0.0,  0.0,  0.0,  0.0,  0.0,  0.0],\n",
    " [0.0,  0.299407583246692,  0.0,  0.0,  0.0,  0.0,  0.0,  0.0,  0.0,  0.0,  0.0,  0.0,  0.0,  0.0,  0.0,  0.0,  0.0,  0.0,  0.0],\n",
    " [0.0,  0.0,  0.21252068278158343,  0.0,  0.0,  0.0,  0.0,  0.0,  0.0,  0.0,  0.0,  0.0,  0.0,  0.0,  0.0,  0.0,  0.0,  0.0,  0.0],\n",
    " [0.573756690364819,  0.0,  0.0,  0.0,  0.0,  0.0,  0.0,  0.0,  0.0,  0.0,  0.0,  0.0,  0.0,  0.0,  0.0,  0.0,  0.0,  0.0,  0.0],\n",
    " [0.0, 0.5789279928126788,  0.0,  0.0,  0.36415435344754865,  0.0,  0.0,  0.0,  0.0,  0.0,  0.0,  0.0,  0.0,  0.0,  0.0,0.0,  0.0,  0.0,  0.0],\n",
    " [0.0,  0.0,  0.6655667139545978,  0.0,  0.0,  0.31314110386002914,  0.0,  0.0,  0.0,  0.0,  0.0,  0.0,  0.0,  0.0,  0.0,  0.0,  0.0,  0.0,  0.0],\n",
    " [0.0,  0.0,  0.0,  0.7589522779534781,  0.0,  0.0,  0.23384571973480886,  0.0,  0.0,  0.0,  0.0,  0.0,0.0,  0.0,  0.0,  0.0,  0.0,  0.0,  0.0],\n",
    " [0.0,  0.0,  0.0,0.0,  0.48272117522682795,  0.0,  0.0,  0.0,  0.22221269653401224,  0.0,  0.0,  0.0,  0.0,  0.0,  0.0,  0.0,  0.0,  0.0,  0.0],\n",
    " [0.0,  0.0,  0.0,  0.0,  0.0,  0.5225899568872159,  0.0,  0.0,  0.38945106659565243,  0.2675099975196681,  0.0,0.0,  0.0,  0.0,  0.0,  0.0,  0.0,  0.0,  0.0],\n",
    " [0.0,  0.0,  0.0,  0.0,  0.0,  0.0,  0.5853429196206084,  0.0,  0.0,  0.2943916113299726,  0.2918353439138808,  0.0,  0.0,  0.0,  0.0,  0.0,  0.0,  0.0,  0.0],\n",
    " [0.0,  0.0,  0.0,0.0,  0.0,  0.0,  0.0,  0.6491937434499773,  0.0,  0.0,  0.24448615175717234,  0.3672194602342903,  0.0,  0.0,  0.0,  0.0,  0.0,  0.0,  0.0],\n",
    " [0.0,  0.0,  0.0,  0.14323058381993137,  0.0,  0.0,  0.0,  0.18709335485070147,  0.0,  0.0,  0.0,  0.15156587254533788,  1.0,  0.0,  0.0,  0.0,  0.0,  0.0,  0.0],\n",
    " [0.0,  0.0,0.0,  0.0,  0.0,  0.0,  0.0,  0.0,  0.2369467522686757,  0.24552642348126266,  0.2620708325303916,  0.25804570584647324,  0.0,  1.0,  0.0,  0.0,  0.0,  0.0,  0.0],\n",
    " [0.06486301198295236,  0.08090562372155673,  0.08135138036810874,  0.06520755895152719,  0.10222843581131263,  0.10941663846159608,  0.12064834521095258,  0.10953431437075332,  0.10284373543136846, 0.1296677439849414,  0.135833785425267, 0.14827656005494635, 0.0, 0.0,  1.0,  0.0,  0.0,  0.0,  0.0],\n",
    " [0.01834911715167718,  0.023357608770400315,  0.022871101506856454,  0.01753221997859077,  0.030463388080350387,  0.032868256640618806,0.0352943989559636,  0.03126640380949312,  0.03164019492733804, 0.04069082664073415,  0.04207206112244569,  0.04534325720710631,  0.0,  0.0,0.0,  1.0,  0.0,  0.0,  0.0],\n",
    " [0.0067550078577854125, 0.008273918233369423,  0.007859058942708523,  0.006557626238216374,  0.010200324288354488,  0.011276333653325667,  0.011940565329411105,  0.009735007024486436,  0.008858350451767468,  0.011671108847153047,  0.01240993489456105,  0.013920608219119718,  0.0,  0.0,  0.0,  0.0,  1.0,  0.0,  0.0],\n",
    " [0.0004281043005181577,  0.0005979091984228913,  0.0006956214322875185,0.0004704540121973743,  0.0005925803287110566,  0.0006289807021337716,  0.0008619065729221322,  0.0006494588828938955,  0.00045017892757593454, 0.0006465451652499829,  0.0006638805025031508,  0.0009939183248594524,  0.0,0.0,  0.0,  0.0,  0.0,  1.0,  0.0],\n",
    " [0.006819812794371977,  0.008529364016879828,  0.009135441013857517,  0.008049279046058842,  0.009639742816894918,  0.010078729795080453,  0.012066144575333396,  0.012527717611694581, 0.007597024863609744, 0.009895743031018008,  0.010628009853778417,  0.01463461756786682,  0.0,  0.0,  0.0,  0.0,  0.0,  0.0,  1.0]])\n",
    "\n",
    "#at bats always start in state 1 \n",
    "x0 = np.array([1.,0,0,0,0,0,0,0,0,0,0,0,0,0,0,0,0,0,0])"
   ]
  },
  {
   "cell_type": "markdown",
   "metadata": {},
   "source": [
    "Note, states 13-19 end the at bat, so those columns each transition back to themselves in the transition matrix. \n",
    "\n",
    "The following cell shows that we do indeed have Markov matrices. The entries are nonnegative, and the columns sum to 1. However, we do not have positive Markov matrices, both matrices have multiple zero entries. Both matrices have 1 as an eigenvalue multiple times."
   ]
  },
  {
   "cell_type": "code",
   "execution_count": 3,
   "metadata": {},
   "outputs": [
    {
     "name": "stdout",
     "output_type": "stream",
     "text": [
      "Number of eigenvalues of 1 for Lowe: 7\n",
      "Number of eigenvalues of 1 for Garcia: 7\n"
     ]
    }
   ],
   "source": [
    "#are the matrices nonnegative? Yes\n",
    "assert np.all(T_lowe >= 0)\n",
    "assert np.all(T_garcia >= 0)\n",
    "\n",
    "#do the matrices sum to 1 in the columns? Yes\n",
    "assert np.allclose(T_lowe.sum(axis = 0), np.ones(19))\n",
    "assert np.allclose(T_garcia.sum(axis = 0), np.ones(19))\n",
    "\n",
    "#do the matrices have 0 entries? Yes\n",
    "assert np.any(T_lowe == 0)\n",
    "assert np.any(T_garcia == 0)\n",
    "\n",
    "# how many eigenvalues are 1 \n",
    "lowe_eigs = np.linalg.eig(T_lowe)[0]\n",
    "garcia_eigs = np.linalg.eig(T_garcia)[0]\n",
    "print('Number of eigenvalues of 1 for Lowe: ' + str(np.sum(lowe_eigs == 1)))\n",
    "print('Number of eigenvalues of 1 for Garcia: ' + str(np.sum(garcia_eigs == 1)))"
   ]
  },
  {
   "attachments": {},
   "cell_type": "markdown",
   "metadata": {},
   "source": [
    "**Question 1:** We can see that both transition matrices have a repeated eigenvalue of 1. What does that mean for the existence of a unique steady state distribution? Can you think of two different starting states that would converge to different steady states? "
   ]
  },
  {
   "attachments": {},
   "cell_type": "markdown",
   "metadata": {},
   "source": [
    "**Given that both transition matrices have a repeated eigenvalue of 1, there is no unique steady state distribution. For example, if we start in state 3-0, we will  likely converge to the state where the man at bat is walked every time at bat. However, if we start in state 0-2, we will likely converge to the state where the man at bat strikes out every time at bat.**"
   ]
  },
  {
   "cell_type": "markdown",
   "metadata": {},
   "source": [
    "**Question Part 2:** We don't necessarily need to have uniqueness of steady state because we always know which state an at bat will start in. It will always start in the first state, the 0-0 state. For both Nathaniel Lowe and Adolis Garcia, start in the 0-0 state, and simulate at least 20 pitches (that should be more than enough, at bats almost never last more than 20 pitches). Which batter is more likely to have hit a home run after 20 pitches?"
   ]
  },
  {
   "cell_type": "code",
   "execution_count": 15,
   "metadata": {},
   "outputs": [
    {
     "name": "stdout",
     "output_type": "stream",
     "text": [
      "Probability homerun after 20 pitches for Lowe: 0.03494915745972664\n",
      "Probability homerun after 20 pitches for Garcia: 0.03739179380752302\n"
     ]
    }
   ],
   "source": [
    "x_20_lowe = np.dot( np.linalg.matrix_power(T_lowe, 20), x0 )\n",
    "x_20_garcia = np.dot( np.linalg.matrix_power(T_garcia, 20), x0 )\n",
    "\n",
    "print('Probability homerun after 20 pitches for Lowe: ' + str(x_20_lowe[18]))\n",
    "print('Probability homerun after 20 pitches for Garcia: ' + str(x_20_garcia[18]))"
   ]
  },
  {
   "attachments": {},
   "cell_type": "markdown",
   "metadata": {},
   "source": [
    "**From our calculation above, we can see that Garcia is more likely to hit a home run after 20 pitches.**"
   ]
  }
 ],
 "metadata": {
  "kernelspec": {
   "display_name": "deeplearning",
   "language": "python",
   "name": "python3"
  },
  "language_info": {
   "codemirror_mode": {
    "name": "ipython",
    "version": 3
   },
   "file_extension": ".py",
   "mimetype": "text/x-python",
   "name": "python",
   "nbconvert_exporter": "python",
   "pygments_lexer": "ipython3",
   "version": "3.10.8"
  },
  "vscode": {
   "interpreter": {
    "hash": "fed2aa9592218c4b4de25ecb09c6b292eb81f342cc059d9c96856c64676dbef4"
   }
  }
 },
 "nbformat": 4,
 "nbformat_minor": 4
}
