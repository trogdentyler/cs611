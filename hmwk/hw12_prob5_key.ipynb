{
  "cells": [
    {
      "cell_type": "markdown",
      "source": [
        "<a href=\"https://colab.research.google.com/github/trogdentyler/cs611/blob/main/hmwk/hw12_prob5.ipynb\" target=\"_parent\"><img src=\"https://colab.research.google.com/assets/colab-badge.svg\" alt=\"Open In Colab\"/></a>"
      ],
      "metadata": {
        "id": "qWpRqBMLgRoh"
      }
    },
    {
      "cell_type": "code",
      "source": [
        "!pip3 install torch\n",
        "!pip3 intall tqdm"
      ],
      "metadata": {
        "colab": {
          "base_uri": "https://localhost:8080/"
        },
        "id": "nECHhf2qjL3l",
        "outputId": "9b9da413-3f27-42c3-a3ae-50912250fcb0"
      },
      "execution_count": 1,
      "outputs": [
        {
          "output_type": "stream",
          "name": "stdout",
          "text": [
            "Looking in indexes: https://pypi.org/simple, https://us-python.pkg.dev/colab-wheels/public/simple/\n",
            "Requirement already satisfied: torch in /usr/local/lib/python3.9/dist-packages (2.0.0+cu118)\n",
            "Requirement already satisfied: triton==2.0.0 in /usr/local/lib/python3.9/dist-packages (from torch) (2.0.0)\n",
            "Requirement already satisfied: jinja2 in /usr/local/lib/python3.9/dist-packages (from torch) (3.1.2)\n",
            "Requirement already satisfied: networkx in /usr/local/lib/python3.9/dist-packages (from torch) (3.0)\n",
            "Requirement already satisfied: sympy in /usr/local/lib/python3.9/dist-packages (from torch) (1.11.1)\n",
            "Requirement already satisfied: typing-extensions in /usr/local/lib/python3.9/dist-packages (from torch) (4.5.0)\n",
            "Requirement already satisfied: filelock in /usr/local/lib/python3.9/dist-packages (from torch) (3.10.7)\n",
            "Requirement already satisfied: lit in /usr/local/lib/python3.9/dist-packages (from triton==2.0.0->torch) (16.0.0)\n",
            "Requirement already satisfied: cmake in /usr/local/lib/python3.9/dist-packages (from triton==2.0.0->torch) (3.25.2)\n",
            "Requirement already satisfied: MarkupSafe>=2.0 in /usr/local/lib/python3.9/dist-packages (from jinja2->torch) (2.1.2)\n",
            "Requirement already satisfied: mpmath>=0.19 in /usr/local/lib/python3.9/dist-packages (from sympy->torch) (1.3.0)\n",
            "ERROR: unknown command \"intall\" - maybe you meant \"install\"\n"
          ]
        }
      ]
    },
    {
      "cell_type": "code",
      "execution_count": 2,
      "metadata": {
        "id": "X38Xt6VseJys"
      },
      "outputs": [],
      "source": [
        "import torch\n",
        "import torch.nn as nn\n",
        "import torch.nn.functional as F\n",
        "import torch.optim as optim\n",
        "from torch.utils.data import Dataset, DataLoader\n",
        "import numpy as np\n",
        "import matplotlib.pyplot as plt\n",
        "from torchvision import transforms, utils, datasets\n",
        "from tqdm import tqdm"
      ]
    },
    {
      "cell_type": "code",
      "source": [
        "# create mnist dataset object\n",
        "\n",
        "class MNISTProcessedDataset(Dataset):\n",
        "  def __init__(self, root, train=True):\n",
        "    # download mnist data from torchvision\n",
        "    \n",
        "    self.data = datasets.MNIST(root, train=train, transform=transforms.ToTensor(), download=True)\n",
        "\n",
        "  def __getitem__(self, i):\n",
        "    x, y = self.data[i]\n",
        "\n",
        "    return x, y\n",
        "\n",
        "  def __len__(self):\n",
        "    return len(self.data)"
      ],
      "metadata": {
        "id": "_7ZMZCO6jhll"
      },
      "execution_count": 3,
      "outputs": []
    },
    {
      "cell_type": "code",
      "source": [
        "# create CNN architecture\n",
        "\n",
        "class CustomCNN(nn.Module):\n",
        "  def __init__(self):\n",
        "    super(CustomCNN, self).__init__()\n",
        "    \n",
        "    # number of classes we're fitting to\n",
        "    out_dim = 10\n",
        "\n",
        "    self.conv1 = nn.Sequential(         \n",
        "            nn.Conv2d(in_channels=1, out_channels=16, kernel_size=5, padding=2),                              \n",
        "            nn.ReLU(),                      \n",
        "            nn.MaxPool2d(kernel_size=2),    \n",
        "        )\n",
        "    \n",
        "    self.conv2 = nn.Sequential(         \n",
        "            nn.Conv2d(in_channels=16, out_channels=32, kernel_size=5, padding=2),     \n",
        "            nn.ReLU(),                      \n",
        "            nn.MaxPool2d(kernel_size=2),                \n",
        "        )\n",
        "    \n",
        "    self.conv3 = nn.Sequential(         \n",
        "            nn.Conv2d(in_channels=32, out_channels=64, kernel_size=5, padding=2),     \n",
        "            nn.ReLU(),                      \n",
        "            nn.MaxPool2d(kernel_size=2),                \n",
        "        )\n",
        "    \n",
        "    # fully connected layer, output 10 classes\n",
        "    self.out = nn.Linear(in_features=576, out_features=out_dim)\n",
        "\n",
        "  def forward(self, x):\n",
        "    x = self.conv1(x)\n",
        "    x = self.conv2(x)\n",
        "    x = self.conv3(x)\n",
        "\n",
        "    # flatten the output of conv3 to (batch_size, 64 * 7 * 7)\n",
        "    x = x.view(x.size(0), -1)       \n",
        "    output = self.out(x)\n",
        "\n",
        "    # return x for visualization\n",
        "    return output"
      ],
      "metadata": {
        "id": "bCwHmHSxk6Ci"
      },
      "execution_count": 4,
      "outputs": []
    },
    {
      "cell_type": "code",
      "source": [
        "# define train and val datasets\n",
        "train_data = MNISTProcessedDataset('/tmp/mnist')\n",
        "val_data = MNISTProcessedDataset('/tmp/mnist', train=False)\n",
        "\n",
        "# define dataloaders which will shuffle our data and hand us a batch when prompted\n",
        "batch_size = 42\n",
        "train_loader = DataLoader(train_data, batch_size=batch_size, pin_memory=True)\n",
        "val_loader = DataLoader(val_data, batch_size=batch_size)\n",
        "\n",
        "# instantiate model\n",
        "model = CustomCNN()\n",
        "model.cuda() # use the GPU for calculation with the model\n",
        "\n",
        "# instantiate optimizer\n",
        "optimizer = optim.Adam(model.parameters(), lr=1e-4)\n",
        "\n",
        "# instantiate loss\n",
        "objective = nn.CrossEntropyLoss()"
      ],
      "metadata": {
        "colab": {
          "base_uri": "https://localhost:8080/"
        },
        "id": "dfuFsjK7ocZH",
        "outputId": "0798d7c4-405e-4d7a-cee0-333bf2484f75"
      },
      "execution_count": 5,
      "outputs": [
        {
          "output_type": "stream",
          "name": "stdout",
          "text": [
            "Downloading http://yann.lecun.com/exdb/mnist/train-images-idx3-ubyte.gz\n",
            "Downloading http://yann.lecun.com/exdb/mnist/train-images-idx3-ubyte.gz to /tmp/mnist/MNIST/raw/train-images-idx3-ubyte.gz\n"
          ]
        },
        {
          "output_type": "stream",
          "name": "stderr",
          "text": [
            "100%|██████████| 9912422/9912422 [00:00<00:00, 291473017.70it/s]"
          ]
        },
        {
          "output_type": "stream",
          "name": "stdout",
          "text": [
            "Extracting /tmp/mnist/MNIST/raw/train-images-idx3-ubyte.gz to /tmp/mnist/MNIST/raw\n"
          ]
        },
        {
          "output_type": "stream",
          "name": "stderr",
          "text": [
            "\n"
          ]
        },
        {
          "output_type": "stream",
          "name": "stdout",
          "text": [
            "\n",
            "Downloading http://yann.lecun.com/exdb/mnist/train-labels-idx1-ubyte.gz\n",
            "Downloading http://yann.lecun.com/exdb/mnist/train-labels-idx1-ubyte.gz to /tmp/mnist/MNIST/raw/train-labels-idx1-ubyte.gz\n"
          ]
        },
        {
          "output_type": "stream",
          "name": "stderr",
          "text": [
            "100%|██████████| 28881/28881 [00:00<00:00, 40432474.57it/s]\n"
          ]
        },
        {
          "output_type": "stream",
          "name": "stdout",
          "text": [
            "Extracting /tmp/mnist/MNIST/raw/train-labels-idx1-ubyte.gz to /tmp/mnist/MNIST/raw\n",
            "\n",
            "Downloading http://yann.lecun.com/exdb/mnist/t10k-images-idx3-ubyte.gz\n",
            "Downloading http://yann.lecun.com/exdb/mnist/t10k-images-idx3-ubyte.gz to /tmp/mnist/MNIST/raw/t10k-images-idx3-ubyte.gz\n"
          ]
        },
        {
          "output_type": "stream",
          "name": "stderr",
          "text": [
            "100%|██████████| 1648877/1648877 [00:00<00:00, 147520133.88it/s]"
          ]
        },
        {
          "output_type": "stream",
          "name": "stdout",
          "text": [
            "Extracting /tmp/mnist/MNIST/raw/t10k-images-idx3-ubyte.gz to /tmp/mnist/MNIST/raw\n",
            "\n",
            "Downloading http://yann.lecun.com/exdb/mnist/t10k-labels-idx1-ubyte.gz\n",
            "Downloading http://yann.lecun.com/exdb/mnist/t10k-labels-idx1-ubyte.gz to /tmp/mnist/MNIST/raw/t10k-labels-idx1-ubyte.gz\n"
          ]
        },
        {
          "output_type": "stream",
          "name": "stderr",
          "text": [
            "\n",
            "100%|██████████| 4542/4542 [00:00<00:00, 15513459.91it/s]\n"
          ]
        },
        {
          "output_type": "stream",
          "name": "stdout",
          "text": [
            "Extracting /tmp/mnist/MNIST/raw/t10k-labels-idx1-ubyte.gz to /tmp/mnist/MNIST/raw\n",
            "\n"
          ]
        }
      ]
    },
    {
      "cell_type": "code",
      "source": [
        "# Run your training/validation loops\n",
        "train_losses = []\n",
        "validation_losses = []\n",
        "\n",
        "# play with number of epochs if training loss is too high\n",
        "num_epochs = 5\n",
        "\n",
        "# loop status bar\n",
        "loop = tqdm(total=len(train_loader) * num_epochs, position=0)\n",
        "\n",
        "for epoch in range(num_epochs):\n",
        "  # train\n",
        "  batch = 0\n",
        "\n",
        "  for x, y_truth in train_loader:\n",
        "    # send tensors to GPU\n",
        "    x, y_truth = x.cuda(non_blocking=True), y_truth.cuda(non_blocking=True)\n",
        "\n",
        "    optimizer.zero_grad()\n",
        "\n",
        "    # evaluate model on input and get loss\n",
        "    y_hat = model(x)\n",
        "    loss = objective(y_hat, y_truth)\n",
        "\n",
        "    # here we'll run through our validation/test data\n",
        "    if batch % 25 == 0:\n",
        "      train_losses.append(loss.item())\n",
        "      validation_loss_list = []\n",
        "\n",
        "      for val_x, val_y_truth in val_loader:\n",
        "        val_x, val_y_truth = val_x.cuda(non_blocking=True), val_y_truth.cuda(non_blocking=True)\n",
        "\n",
        "        val_y_hat = model(val_x)\n",
        "        validation_loss_list.append(objective(val_y_hat, val_y_truth))\n",
        "\n",
        "      validation_losses.append( (sum(validation_loss_list) / len(validation_loss_list) ).item() )\n",
        "\n",
        "    loop.set_description('epoch:{} batch:{} loss:{:.4f} val_loss:{:.4f}'.format(epoch, batch, loss.item(), validation_losses[-1]))\n",
        "    loop.update()\n",
        "\n",
        "    loss.backward()\n",
        "    optimizer.step()\n",
        "\n",
        "    batch += 1\n",
        "\n",
        "loop.close()\n",
        "\n",
        "# create a plot of your loss over time\n",
        "fig = plt.figure()\n",
        "ax = fig.add_subplot(111)\n",
        "\n",
        "ax.plot(range(len(validation_losses)), validation_losses, label=\"Validation loss\")\n",
        "ax.plot(range(len(train_losses)), train_losses, label=\"Training loss\")\n",
        "\n",
        "plt.xlabel(\"Time (Iterations)\")\n",
        "plt.ylabel(\"Loss\")\n",
        "plt.legend()\n",
        "plt.show()"
      ],
      "metadata": {
        "colab": {
          "base_uri": "https://localhost:8080/",
          "height": 468
        },
        "id": "7B484ktPqCqi",
        "outputId": "1812e9f2-9b0c-462f-a115-ab1f4c5998d3"
      },
      "execution_count": 6,
      "outputs": [
        {
          "output_type": "stream",
          "name": "stderr",
          "text": [
            "epoch:4 batch:1428 loss:0.0166 val_loss:0.0543: 100%|██████████| 7145/7145 [08:56<00:00, 13.32it/s]\n"
          ]
        },
        {
          "output_type": "display_data",
          "data": {
            "text/plain": [
              "<Figure size 640x480 with 1 Axes>"
            ],
            "image/png": "[encoded data removed]"
          },
          "metadata": {}
        }
      ]
    },
    {
      "cell_type": "code",
      "source": [
        "# test prediction against actual labels\n",
        "imgs, lbls = next(iter(val_loader))\n",
        "imgs = imgs.cuda()\n",
        "\n",
        "test_output = model(imgs)\n",
        "pred_lbls = torch.max(test_output, 1)[1].data.cpu().numpy().squeeze()\n",
        "\n",
        "actual_lbls = lbls.numpy()\n",
        "\n",
        "print(f'Prediction number: {pred_lbls}')\n",
        "print(f'Actual number: {actual_lbls}')\n",
        "print('\\n', pred_lbls == actual_lbls)"
      ],
      "metadata": {
        "colab": {
          "base_uri": "https://localhost:8080/"
        },
        "id": "RybhpGKR3mlv",
        "outputId": "71d5c186-5ef8-4743-d1cb-02cc912c806e"
      },
      "execution_count": 7,
      "outputs": [
        {
          "output_type": "stream",
          "name": "stdout",
          "text": [
            "Prediction number: [7 2 1 0 4 1 4 9 5 9 0 6 9 0 1 5 9 7 3 4 9 6 6 5 4 0 7 4 0 1 3 1 3 4 7 2 7\n",
            " 1 2 1 1 7]\n",
            "Actual number: [7 2 1 0 4 1 4 9 5 9 0 6 9 0 1 5 9 7 3 4 9 6 6 5 4 0 7 4 0 1 3 1 3 4 7 2 7\n",
            " 1 2 1 1 7]\n",
            "\n",
            " [ True  True  True  True  True  True  True  True  True  True  True  True\n",
            "  True  True  True  True  True  True  True  True  True  True  True  True\n",
            "  True  True  True  True  True  True  True  True  True  True  True  True\n",
            "  True  True  True  True  True  True]\n"
          ]
        }
      ]
    }
  ],
  "metadata": {
    "kernelspec": {
      "display_name": "deeplearning",
      "language": "python",
      "name": "python3"
    },
    "language_info": {
      "codemirror_mode": {
        "name": "ipython",
        "version": 3
      },
      "file_extension": ".py",
      "mimetype": "text/x-python",
      "name": "python",
      "nbconvert_exporter": "python",
      "pygments_lexer": "ipython3",
      "version": "3.10.10"
    },
    "orig_nbformat": 4,
    "colab": {
      "provenance": []
    },
    "accelerator": "GPU",
    "gpuClass": "standard"
  },
  "nbformat": 4,
  "nbformat_minor": 0
}